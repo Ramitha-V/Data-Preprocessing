{
 "cells": [
  {
   "cell_type": "code",
   "execution_count": 19,
   "id": "ceec9159",
   "metadata": {},
   "outputs": [],
   "source": [
    "import bs4\n",
    "import os\n",
    "from bs4 import *\n",
    "import requests"
   ]
  },
  {
   "cell_type": "code",
   "execution_count": 20,
   "id": "9bc7d7d5",
   "metadata": {},
   "outputs": [],
   "source": [
    "req=requests.get(\"https://unsplash.com/s/photos/nature\")\n",
    "\n",
    "#Parsing the web-page into html format\n",
    "soup=BeautifulSoup(req.text,'html.parser')\n"
   ]
  },
  {
   "cell_type": "code",
   "execution_count": 21,
   "id": "0f6ad60d",
   "metadata": {},
   "outputs": [],
   "source": [
    "#Creating list for storing all the links of the images \n",
    "links=[]\n",
    "\n",
    "link=soup.select('img[src^=\"https://images.unsplash.com/photo\"]')\n"
   ]
  },
  {
   "cell_type": "code",
   "execution_count": 22,
   "id": "9323f0bd",
   "metadata": {},
   "outputs": [],
   "source": [
    "for img in link:\n",
    "    links.append(img['src'])\n",
    "\n",
    "directory='D:\\SEM 3\\\\New folder'\n",
    "\n",
    "    \n",
    "\n"
   ]
  },
  {
   "cell_type": "code",
   "execution_count": 24,
   "id": "a1e2c84c",
   "metadata": {},
   "outputs": [],
   "source": [
    "for index, img_link in enumerate(links):\n",
    "    img_data = requests.get(img_link).content\n",
    "    with open(f'{directory}/'+str(index+1)+'.jpg','wb+') as f:\n",
    "        f.write(img_data)"
   ]
  },
  {
   "cell_type": "code",
   "execution_count": 25,
   "id": "60f3ad2b",
   "metadata": {},
   "outputs": [
    {
     "name": "stdout",
     "output_type": "stream",
     "text": [
      "Collecting pygoogle-image\n",
      "  Downloading pygoogle_image-1.0.0.tar.gz (3.4 kB)\n",
      "  Preparing metadata (setup.py): started\n",
      "  Preparing metadata (setup.py): finished with status 'done'\n",
      "Collecting python-magic-bin==0.4.14 (from pygoogle-image)\n",
      "  Downloading python_magic_bin-0.4.14-py2.py3-none-win_amd64.whl (409 kB)\n",
      "                                              0.0/409.3 kB ? eta -:--:--\n",
      "     -----                                   61.4/409.3 kB 3.2 MB/s eta 0:00:01\n",
      "     -----                                   61.4/409.3 kB 3.2 MB/s eta 0:00:01\n",
      "     ---------                            112.6/409.3 kB 939.4 kB/s eta 0:00:01\n",
      "     -------------                        153.6/409.3 kB 919.0 kB/s eta 0:00:01\n",
      "     -------------------                    204.8/409.3 kB 1.0 MB/s eta 0:00:01\n",
      "     ----------------------               256.0/409.3 kB 983.0 kB/s eta 0:00:01\n",
      "     ----------------------------------     368.6/409.3 kB 1.2 MB/s eta 0:00:01\n",
      "     -------------------------------------- 409.3/409.3 kB 1.3 MB/s eta 0:00:00\n",
      "Collecting progressbar (from pygoogle-image)\n",
      "  Downloading progressbar-2.5.tar.gz (10 kB)\n",
      "  Preparing metadata (setup.py): started\n",
      "  Preparing metadata (setup.py): finished with status 'done'\n",
      "Requirement already satisfied: urllib3 in c:\\users\\ramit\\anaconda\\lib\\site-packages (from pygoogle-image) (1.26.16)\n",
      "Requirement already satisfied: requests in c:\\users\\ramit\\anaconda\\lib\\site-packages (from pygoogle-image) (2.29.0)\n",
      "Requirement already satisfied: charset-normalizer<4,>=2 in c:\\users\\ramit\\anaconda\\lib\\site-packages (from requests->pygoogle-image) (2.0.4)\n",
      "Requirement already satisfied: idna<4,>=2.5 in c:\\users\\ramit\\anaconda\\lib\\site-packages (from requests->pygoogle-image) (3.4)\n",
      "Requirement already satisfied: certifi>=2017.4.17 in c:\\users\\ramit\\anaconda\\lib\\site-packages (from requests->pygoogle-image) (2023.5.7)\n",
      "Building wheels for collected packages: pygoogle-image, progressbar\n",
      "  Building wheel for pygoogle-image (setup.py): started\n",
      "  Building wheel for pygoogle-image (setup.py): finished with status 'done'\n",
      "  Created wheel for pygoogle-image: filename=pygoogle_image-1.0.0-py3-none-any.whl size=3995 sha256=1ea8fb45355c2889ce24a08e15a059d504bd6657ce99ca4563728de2469214e6\n",
      "  Stored in directory: c:\\users\\ramit\\appdata\\local\\pip\\cache\\wheels\\b2\\b1\\12\\75e070ffc2f5e44743b1859ddceb4a5355e81c9d28ec0f1712\n",
      "  Building wheel for progressbar (setup.py): started\n",
      "  Building wheel for progressbar (setup.py): finished with status 'done'\n",
      "  Created wheel for progressbar: filename=progressbar-2.5-py3-none-any.whl size=12084 sha256=14b609517b1e9f9427962043a182fb728816f21dd97b504aa9fff1835251552b\n",
      "  Stored in directory: c:\\users\\ramit\\appdata\\local\\pip\\cache\\wheels\\8d\\bb\\b2\\5353b966ac6f3c5e1000629a9a5f6aed41794487f551e32efc\n",
      "Successfully built pygoogle-image progressbar\n",
      "Installing collected packages: python-magic-bin, progressbar, pygoogle-image\n",
      "Successfully installed progressbar-2.5 pygoogle-image-1.0.0 python-magic-bin-0.4.14\n"
     ]
    }
   ],
   "source": [
    "#PyGoogle Image\n",
    "!pip install pygoogle-image"
   ]
  },
  {
   "cell_type": "code",
   "execution_count": 27,
   "id": "605d0317",
   "metadata": {},
   "outputs": [
    {
     "name": "stderr",
     "output_type": "stream",
     "text": [
      "[========================================================================] 100%\n"
     ]
    }
   ],
   "source": [
    "from pygoogle_image import image as pi\n",
    "pi.download(keywords='helicopter',limit=10)"
   ]
  },
  {
   "cell_type": "code",
   "execution_count": 28,
   "id": "ad42c48f",
   "metadata": {},
   "outputs": [
    {
     "name": "stdout",
     "output_type": "stream",
     "text": [
      "Collecting simple-image-download\n",
      "  Downloading simple_image_download-0.5-py3-none-any.whl (7.0 kB)\n",
      "Requirement already satisfied: requests in c:\\users\\ramit\\anaconda\\lib\\site-packages (from simple-image-download) (2.29.0)\n",
      "Requirement already satisfied: python-magic-bin==0.4.14 in c:\\users\\ramit\\anaconda\\lib\\site-packages (from simple-image-download) (0.4.14)\n",
      "Requirement already satisfied: progressbar in c:\\users\\ramit\\anaconda\\lib\\site-packages (from simple-image-download) (2.5)\n",
      "Requirement already satisfied: charset-normalizer<4,>=2 in c:\\users\\ramit\\anaconda\\lib\\site-packages (from requests->simple-image-download) (2.0.4)\n",
      "Requirement already satisfied: idna<4,>=2.5 in c:\\users\\ramit\\anaconda\\lib\\site-packages (from requests->simple-image-download) (3.4)\n",
      "Requirement already satisfied: urllib3<1.27,>=1.21.1 in c:\\users\\ramit\\anaconda\\lib\\site-packages (from requests->simple-image-download) (1.26.16)\n",
      "Requirement already satisfied: certifi>=2017.4.17 in c:\\users\\ramit\\anaconda\\lib\\site-packages (from requests->simple-image-download) (2023.5.7)\n",
      "Installing collected packages: simple-image-download\n",
      "Successfully installed simple-image-download-0.5\n",
      "Note: you may need to restart the kernel to use updated packages.\n"
     ]
    }
   ],
   "source": [
    "pip install simple-image-download"
   ]
  },
  {
   "cell_type": "code",
   "execution_count": 31,
   "id": "8ec24618",
   "metadata": {},
   "outputs": [
    {
     "name": "stderr",
     "output_type": "stream",
     "text": [
      "[========================================================================] 100%\n"
     ]
    }
   ],
   "source": [
    "from simple_image_download import simple_image_download as simple\n",
    "response=simple.Downloader()\n",
    "keywords=[\"dogs\"]\n",
    "\n",
    "for kw in keywords:\n",
    "    response.download(kw,10)"
   ]
  },
  {
   "cell_type": "code",
   "execution_count": null,
   "id": "8ae11562",
   "metadata": {},
   "outputs": [],
   "source": []
  },
  {
   "cell_type": "code",
   "execution_count": null,
   "id": "5cebd4e8",
   "metadata": {},
   "outputs": [],
   "source": []
  }
 ],
 "metadata": {
  "kernelspec": {
   "display_name": "Python 3 (ipykernel)",
   "language": "python",
   "name": "python3"
  },
  "language_info": {
   "codemirror_mode": {
    "name": "ipython",
    "version": 3
   },
   "file_extension": ".py",
   "mimetype": "text/x-python",
   "name": "python",
   "nbconvert_exporter": "python",
   "pygments_lexer": "ipython3",
   "version": "3.11.3"
  }
 },
 "nbformat": 4,
 "nbformat_minor": 5
}
