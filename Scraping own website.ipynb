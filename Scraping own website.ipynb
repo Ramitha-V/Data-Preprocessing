{
 "cells": [
  {
   "cell_type": "code",
   "execution_count": 7,
   "id": "7854693d",
   "metadata": {},
   "outputs": [],
   "source": [
    "import requests"
   ]
  },
  {
   "cell_type": "code",
   "execution_count": 8,
   "id": "cf063eb3",
   "metadata": {},
   "outputs": [
    {
     "name": "stdout",
     "output_type": "stream",
     "text": [
      "<!DOCTYPE html>\n",
      "<!--Specifies the type as HTML--><html lang=\"en\">\n",
      "<head>\n",
      "<meta charset=\"utf-8\"/>\n",
      "<meta content=\"width=device-width, initial-scale=1.0\" name=\"viewport\"/>\n",
      "<title>My First Page</title>\n",
      "</head>\n",
      "<style>\n",
      "    h1 {text-align: center;}\n",
      "    h2 {text-align: center;}\n",
      "    p {text-align: center;}\n",
      "</style>\n",
      "<body>\n",
      "<h1>DATA PREPROCESSING LAB</h1>\n",
      "<h2>Welcome to my first website</h2>\n",
      "<h2>Heyy all!!</h2>\n",
      "<p> This is a trial one used for scarping the headers and paragraph</p>\n",
      "</body>\n",
      "</html>\n",
      "\n"
     ]
    }
   ],
   "source": [
    "from bs4 import BeautifulSoup\n",
    "with open('D:\\HTML\\index.html','r') as file_handler:\n",
    "    contents_of_file=file_handler.read()\n",
    "    soup=BeautifulSoup(contents_of_file,'html')\n",
    "    print(soup)\n"
   ]
  },
  {
   "cell_type": "code",
   "execution_count": 9,
   "id": "04ea55f6",
   "metadata": {},
   "outputs": [
    {
     "name": "stdout",
     "output_type": "stream",
     "text": [
      "<Response [200]>\n"
     ]
    }
   ],
   "source": [
    "url=\"http://127.0.0.1:5500/index.html\"\n",
    "response=requests.get(url)\n",
    "print(response)"
   ]
  },
  {
   "cell_type": "code",
   "execution_count": 10,
   "id": "9711c518",
   "metadata": {},
   "outputs": [
    {
     "name": "stdout",
     "output_type": "stream",
     "text": [
      "DATA PREPROCESSING LAB\n"
     ]
    }
   ],
   "source": [
    "h1tags=soup.find_all('h1')\n",
    "for soups in h1tags:\n",
    "    print(soups.string)"
   ]
  },
  {
   "cell_type": "code",
   "execution_count": 11,
   "id": "86f5d7bb",
   "metadata": {},
   "outputs": [
    {
     "name": "stdout",
     "output_type": "stream",
     "text": [
      "Welcome to my first website\n",
      "Heyy all!!\n"
     ]
    }
   ],
   "source": [
    "h2tags=soup.find_all('h2')\n",
    "for soups in h2tags:\n",
    "    print(soups.string)"
   ]
  },
  {
   "cell_type": "code",
   "execution_count": 12,
   "id": "9a4cd7de",
   "metadata": {},
   "outputs": [
    {
     "name": "stdout",
     "output_type": "stream",
     "text": [
      " This is a trial one used for scarping the headers and paragraph\n"
     ]
    }
   ],
   "source": [
    "ptage=soup.find_all('p')\n",
    "for soups in ptage:\n",
    "    print(soups.string)"
   ]
  },
  {
   "cell_type": "code",
   "execution_count": null,
   "id": "e903f0e8",
   "metadata": {},
   "outputs": [],
   "source": []
  }
 ],
 "metadata": {
  "kernelspec": {
   "display_name": "Python 3 (ipykernel)",
   "language": "python",
   "name": "python3"
  },
  "language_info": {
   "codemirror_mode": {
    "name": "ipython",
    "version": 3
   },
   "file_extension": ".py",
   "mimetype": "text/x-python",
   "name": "python",
   "nbconvert_exporter": "python",
   "pygments_lexer": "ipython3",
   "version": "3.11.3"
  }
 },
 "nbformat": 4,
 "nbformat_minor": 5
}
