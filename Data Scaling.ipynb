{
 "cells": [
  {
   "cell_type": "markdown",
   "id": "3ed6724c",
   "metadata": {},
   "source": [
    "# Data Scaling"
   ]
  },
  {
   "cell_type": "markdown",
   "id": "6c81843b",
   "metadata": {},
   "source": [
    "- Algorithm's are usually more biased towards numerically large values\n",
    "    - Normalisation: [0,1] or [-1,1] \n",
    "    - Standardization: 0 mean and 1 variance\n",
    "          \n",
    "          "
   ]
  },
  {
   "cell_type": "markdown",
   "id": "efd62e35",
   "metadata": {},
   "source": [
    "- Normalisation:\n",
    "    - min-max scaling\n",
    "    - X(new)=(X-X(min))/(X(max)-X(min))\n",
    "    - scales range to [0,1] or sometimes [-1,1]\n",
    "    - only when data has no outliers\n",
    "    "
   ]
  },
  {
   "cell_type": "markdown",
   "id": "b24ae804",
   "metadata": {},
   "source": [
    "- Standardization:\n",
    "    - Z-score normalisation\n",
    "    - X(new)=(X-X(mean))/X(standardisation)\n",
    "    - when outliers are present its preferable"
   ]
  },
  {
   "cell_type": "markdown",
   "id": "e0bad11a",
   "metadata": {},
   "source": [
    "## Importing libraries"
   ]
  },
  {
   "cell_type": "code",
   "execution_count": null,
   "id": "168eca5b",
   "metadata": {},
   "outputs": [],
   "source": [
    "import pandas as pd\n",
    "import numpy as np\n",
    "from sklearn.preprocessing import MinMaxScaler"
   ]
  },
  {
   "cell_type": "markdown",
   "id": "64707784",
   "metadata": {},
   "source": [
    "## Define data"
   ]
  },
  {
   "cell_type": "code",
   "execution_count": 2,
   "id": "453ee6bf",
   "metadata": {},
   "outputs": [
    {
     "data": {
      "text/html": [
       "<div>\n",
       "<style scoped>\n",
       "    .dataframe tbody tr th:only-of-type {\n",
       "        vertical-align: middle;\n",
       "    }\n",
       "\n",
       "    .dataframe tbody tr th {\n",
       "        vertical-align: top;\n",
       "    }\n",
       "\n",
       "    .dataframe thead th {\n",
       "        text-align: right;\n",
       "    }\n",
       "</style>\n",
       "<table border=\"1\" class=\"dataframe\">\n",
       "  <thead>\n",
       "    <tr style=\"text-align: right;\">\n",
       "      <th></th>\n",
       "      <th>X</th>\n",
       "      <th>Y</th>\n",
       "    </tr>\n",
       "  </thead>\n",
       "  <tbody>\n",
       "    <tr>\n",
       "      <th>0</th>\n",
       "      <td>5</td>\n",
       "      <td>5</td>\n",
       "    </tr>\n",
       "    <tr>\n",
       "      <th>1</th>\n",
       "      <td>10</td>\n",
       "      <td>2</td>\n",
       "    </tr>\n",
       "    <tr>\n",
       "      <th>2</th>\n",
       "      <td>2</td>\n",
       "      <td>0</td>\n",
       "    </tr>\n",
       "    <tr>\n",
       "      <th>3</th>\n",
       "      <td>0</td>\n",
       "      <td>10</td>\n",
       "    </tr>\n",
       "  </tbody>\n",
       "</table>\n",
       "</div>"
      ],
      "text/plain": [
       "    X   Y\n",
       "0   5   5\n",
       "1  10   2\n",
       "2   2   0\n",
       "3   0  10"
      ]
     },
     "execution_count": 2,
     "metadata": {},
     "output_type": "execute_result"
    }
   ],
   "source": [
    "data=pd.DataFrame(data=[[5,5],[10,2],[2,0],[0,10]],columns=['X','Y'])\n",
    "data"
   ]
  },
  {
   "cell_type": "markdown",
   "id": "41b0ce59",
   "metadata": {},
   "source": [
    "- plot scatter plot:\n",
    "    - plt.axvline: add vertical line to a plot\n",
    "    - plt.axhline: add horizontal line to a plot\n",
    "    - x=0 then vertical line is plotted\n",
    "    - y=0 then horizontal line is plotted\n",
    "    - c=\"red\" or anyother colour"
   ]
  },
  {
   "cell_type": "code",
   "execution_count": 7,
   "id": "b0e7d124",
   "metadata": {},
   "outputs": [
    {
     "data": {
      "image/png": "[encoded data removed]",
      "text/plain": [
       "<Figure size 640x480 with 1 Axes>"
      ]
     },
     "metadata": {},
     "output_type": "display_data"
    }
   ],
   "source": [
    "import matplotlib.pyplot as plt\n",
    "plt.scatter(data.X,data.Y) # for plotting scatter plot\n",
    "plt.axvline(x=0,c=\"red\") # adding y-axis\n",
    "plt.axhline(y=0,c=\"yellow\") # adding x-axis\n",
    "plt.show()"
   ]
  },
  {
   "cell_type": "markdown",
   "id": "e2f3952c",
   "metadata": {},
   "source": [
    "# Define,fit and transform min-max scaler"
   ]
  },
  {
   "cell_type": "code",
   "execution_count": 8,
   "id": "4abf737f",
   "metadata": {},
   "outputs": [],
   "source": [
    "scaler=MinMaxScaler()\n",
    "min_max_scaled=scaler.fit_transform(data)  #y=(x-min)/(max-min)"
   ]
  },
  {
   "cell_type": "markdown",
   "id": "7ac0149f",
   "metadata": {},
   "source": [
    "# Print scaled data"
   ]
  },
  {
   "cell_type": "code",
   "execution_count": 9,
   "id": "e1446829",
   "metadata": {},
   "outputs": [],
   "source": [
    "min_max_scaled=pd.DataFrame(min_max_scaled,columns=['X','Y'])"
   ]
  },
  {
   "cell_type": "code",
   "execution_count": 10,
   "id": "d9e89ca8",
   "metadata": {},
   "outputs": [
    {
     "data": {
      "text/html": [
       "<div>\n",
       "<style scoped>\n",
       "    .dataframe tbody tr th:only-of-type {\n",
       "        vertical-align: middle;\n",
       "    }\n",
       "\n",
       "    .dataframe tbody tr th {\n",
       "        vertical-align: top;\n",
       "    }\n",
       "\n",
       "    .dataframe thead th {\n",
       "        text-align: right;\n",
       "    }\n",
       "</style>\n",
       "<table border=\"1\" class=\"dataframe\">\n",
       "  <thead>\n",
       "    <tr style=\"text-align: right;\">\n",
       "      <th></th>\n",
       "      <th>X</th>\n",
       "      <th>Y</th>\n",
       "    </tr>\n",
       "  </thead>\n",
       "  <tbody>\n",
       "    <tr>\n",
       "      <th>0</th>\n",
       "      <td>0.5</td>\n",
       "      <td>0.5</td>\n",
       "    </tr>\n",
       "    <tr>\n",
       "      <th>1</th>\n",
       "      <td>1.0</td>\n",
       "      <td>0.2</td>\n",
       "    </tr>\n",
       "    <tr>\n",
       "      <th>2</th>\n",
       "      <td>0.2</td>\n",
       "      <td>0.0</td>\n",
       "    </tr>\n",
       "    <tr>\n",
       "      <th>3</th>\n",
       "      <td>0.0</td>\n",
       "      <td>1.0</td>\n",
       "    </tr>\n",
       "  </tbody>\n",
       "</table>\n",
       "</div>"
      ],
      "text/plain": [
       "     X    Y\n",
       "0  0.5  0.5\n",
       "1  1.0  0.2\n",
       "2  0.2  0.0\n",
       "3  0.0  1.0"
      ]
     },
     "execution_count": 10,
     "metadata": {},
     "output_type": "execute_result"
    }
   ],
   "source": [
    "min_max_scaled"
   ]
  },
  {
   "cell_type": "code",
   "execution_count": 11,
   "id": "bb946d2c",
   "metadata": {},
   "outputs": [
    {
     "data": {
      "text/html": [
       "<div>\n",
       "<style scoped>\n",
       "    .dataframe tbody tr th:only-of-type {\n",
       "        vertical-align: middle;\n",
       "    }\n",
       "\n",
       "    .dataframe tbody tr th {\n",
       "        vertical-align: top;\n",
       "    }\n",
       "\n",
       "    .dataframe thead th {\n",
       "        text-align: right;\n",
       "    }\n",
       "</style>\n",
       "<table border=\"1\" class=\"dataframe\">\n",
       "  <thead>\n",
       "    <tr style=\"text-align: right;\">\n",
       "      <th></th>\n",
       "      <th>X</th>\n",
       "      <th>Y</th>\n",
       "    </tr>\n",
       "  </thead>\n",
       "  <tbody>\n",
       "    <tr>\n",
       "      <th>0</th>\n",
       "      <td>5</td>\n",
       "      <td>5</td>\n",
       "    </tr>\n",
       "    <tr>\n",
       "      <th>1</th>\n",
       "      <td>10</td>\n",
       "      <td>2</td>\n",
       "    </tr>\n",
       "    <tr>\n",
       "      <th>2</th>\n",
       "      <td>2</td>\n",
       "      <td>0</td>\n",
       "    </tr>\n",
       "    <tr>\n",
       "      <th>3</th>\n",
       "      <td>0</td>\n",
       "      <td>10</td>\n",
       "    </tr>\n",
       "  </tbody>\n",
       "</table>\n",
       "</div>"
      ],
      "text/plain": [
       "    X   Y\n",
       "0   5   5\n",
       "1  10   2\n",
       "2   2   0\n",
       "3   0  10"
      ]
     },
     "execution_count": 11,
     "metadata": {},
     "output_type": "execute_result"
    }
   ],
   "source": [
    "data"
   ]
  },
  {
   "cell_type": "code",
   "execution_count": 12,
   "id": "ad6919e0",
   "metadata": {},
   "outputs": [
    {
     "data": {
      "image/png": "[encoded data removed]",
      "text/plain": [
       "<Figure size 640x480 with 1 Axes>"
      ]
     },
     "metadata": {},
     "output_type": "display_data"
    }
   ],
   "source": [
    "import matplotlib.pyplot as plt\n",
    "plt.scatter(min_max_scaled.X,min_max_scaled.Y) # for plotting scatter plot\n",
    "plt.axvline(x=0,c=\"red\") # adding y-axis\n",
    "plt.axhline(y=0,c=\"yellow\") # adding x-axis\n",
    "plt.show()"
   ]
  },
  {
   "cell_type": "markdown",
   "id": "7ef03125",
   "metadata": {},
   "source": [
    "- Subplots:\n",
    "    - plt.subplot: create a grid of subplots within a single figure\n",
    "    - subplot(1,2,1)\n",
    "        - 1: number of rows in the grid\n",
    "        - 2: number of rows columns\n",
    "        - 1: index of current subplot"
   ]
  },
  {
   "cell_type": "code",
   "execution_count": 21,
   "id": "243e1af4",
   "metadata": {},
   "outputs": [
    {
     "data": {
      "image/png": "[encoded data removed]",
      "text/plain": [
       "<Figure size 1500x500 with 2 Axes>"
      ]
     },
     "metadata": {},
     "output_type": "display_data"
    }
   ],
   "source": [
    "plt.figure(figsize=(15,5))\n",
    "plt.subplot(1,2,1)\n",
    "plt.scatter(data.X,data.Y) # for plotting scatter plot\n",
    "plt.axvline(x=0,c=\"red\") # adding y-axis\n",
    "plt.axhline(y=0,c=\"yellow\")# adding x-axis\n",
    "plt.title(\"Before Scaling\")\n",
    "\n",
    "plt.subplot(1,2,2)\n",
    "plt.scatter(min_max_scaled.X,min_max_scaled.Y) # for plotting scatter plot\n",
    "plt.axvline(x=0,c=\"red\") # adding y-axis\n",
    "plt.axhline(y=0,c=\"yellow\")# adding x-axis\n",
    "plt.title(\"After Scaling\")\n",
    "plt.show()"
   ]
  },
  {
   "cell_type": "markdown",
   "id": "356bc78e",
   "metadata": {},
   "source": [
    "## Import Standard Scaler(normalization_scaler)"
   ]
  },
  {
   "cell_type": "code",
   "execution_count": 23,
   "id": "00f9e414",
   "metadata": {},
   "outputs": [],
   "source": [
    "from sklearn.preprocessing import StandardScaler"
   ]
  },
  {
   "cell_type": "code",
   "execution_count": 24,
   "id": "965a487a",
   "metadata": {},
   "outputs": [],
   "source": [
    "scaler1=StandardScaler()\n",
    "std_scaler=scaler1.fit_transform(data)"
   ]
  },
  {
   "cell_type": "code",
   "execution_count": 25,
   "id": "36ccbf80",
   "metadata": {},
   "outputs": [
    {
     "data": {
      "text/plain": [
       "array([[ 0.19911699,  0.19911699],\n",
       "       [ 1.52656362, -0.59735098],\n",
       "       [-0.59735098, -1.12832963],\n",
       "       [-1.12832963,  1.52656362]])"
      ]
     },
     "execution_count": 25,
     "metadata": {},
     "output_type": "execute_result"
    }
   ],
   "source": [
    "std_scaler"
   ]
  },
  {
   "cell_type": "code",
   "execution_count": 27,
   "id": "3cab4417",
   "metadata": {},
   "outputs": [
    {
     "data": {
      "text/plain": [
       "<matplotlib.lines.Line2D at 0x1fa4d60f150>"
      ]
     },
     "execution_count": 27,
     "metadata": {},
     "output_type": "execute_result"
    },
    {
     "data": {
      "image/png": "[encoded data removed]",
      "text/plain": [
       "<Figure size 640x480 with 1 Axes>"
      ]
     },
     "metadata": {},
     "output_type": "display_data"
    }
   ],
   "source": [
    "plt.scatter(data.X,data.Y) # for plotting scatter plot\n",
    "plt.axvline(x=0,c=\"red\") # adding y-axis\n",
    "plt.axhline(y=0,c=\"yellow\")# adding x-axis"
   ]
  },
  {
   "cell_type": "code",
   "execution_count": 36,
   "id": "6d1fe695",
   "metadata": {},
   "outputs": [
    {
     "data": {
      "text/html": [
       "<div>\n",
       "<style scoped>\n",
       "    .dataframe tbody tr th:only-of-type {\n",
       "        vertical-align: middle;\n",
       "    }\n",
       "\n",
       "    .dataframe tbody tr th {\n",
       "        vertical-align: top;\n",
       "    }\n",
       "\n",
       "    .dataframe thead th {\n",
       "        text-align: right;\n",
       "    }\n",
       "</style>\n",
       "<table border=\"1\" class=\"dataframe\">\n",
       "  <thead>\n",
       "    <tr style=\"text-align: right;\">\n",
       "      <th></th>\n",
       "      <th>X</th>\n",
       "      <th>Y</th>\n",
       "    </tr>\n",
       "  </thead>\n",
       "  <tbody>\n",
       "    <tr>\n",
       "      <th>0</th>\n",
       "      <td>0.199117</td>\n",
       "      <td>0.199117</td>\n",
       "    </tr>\n",
       "    <tr>\n",
       "      <th>1</th>\n",
       "      <td>1.526564</td>\n",
       "      <td>-0.597351</td>\n",
       "    </tr>\n",
       "    <tr>\n",
       "      <th>2</th>\n",
       "      <td>-0.597351</td>\n",
       "      <td>-1.128330</td>\n",
       "    </tr>\n",
       "    <tr>\n",
       "      <th>3</th>\n",
       "      <td>-1.128330</td>\n",
       "      <td>1.526564</td>\n",
       "    </tr>\n",
       "  </tbody>\n",
       "</table>\n",
       "</div>"
      ],
      "text/plain": [
       "          X         Y\n",
       "0  0.199117  0.199117\n",
       "1  1.526564 -0.597351\n",
       "2 -0.597351 -1.128330\n",
       "3 -1.128330  1.526564"
      ]
     },
     "execution_count": 36,
     "metadata": {},
     "output_type": "execute_result"
    }
   ],
   "source": [
    "std_scaled=pd.DataFrame(std_scaler,columns=['X','Y'])\n",
    "std_scaled #X(new)=(X-X(mean))/(X std)"
   ]
  },
  {
   "cell_type": "code",
   "execution_count": 32,
   "id": "eefc8bb7",
   "metadata": {},
   "outputs": [
    {
     "data": {
      "text/plain": [
       "<matplotlib.lines.Line2D at 0x1fa4cd00890>"
      ]
     },
     "execution_count": 32,
     "metadata": {},
     "output_type": "execute_result"
    },
    {
     "data": {
      "image/png": "[encoded data removed]",
      "text/plain": [
       "<Figure size 640x480 with 1 Axes>"
      ]
     },
     "metadata": {},
     "output_type": "display_data"
    }
   ],
   "source": [
    "plt.scatter(std_scaled.X,std_scaled.Y) # for plotting scatter plot\n",
    "plt.axvline(x=0,c=\"red\") # adding y-axis\n",
    "plt.axhline(y=0,c=\"yellow\")# adding x-axis"
   ]
  },
  {
   "cell_type": "code",
   "execution_count": 35,
   "id": "feb2bf8a",
   "metadata": {},
   "outputs": [
    {
     "data": {
      "image/png": "[encoded data removed]",
      "text/plain": [
       "<Figure size 1500x500 with 3 Axes>"
      ]
     },
     "metadata": {},
     "output_type": "display_data"
    }
   ],
   "source": [
    "plt.figure(figsize=(15,5))\n",
    "plt.subplot(1,3,1)\n",
    "plt.scatter(data.X,data.Y) # for plotting scatter plot\n",
    "plt.axvline(x=0,c=\"red\") # adding y-axis\n",
    "plt.axhline(y=0,c=\"yellow\")# adding x-axis\n",
    "plt.title(\"Before Scaling\")\n",
    "\n",
    "plt.subplot(1,3,2)\n",
    "plt.scatter(min_max_scaled.X,min_max_scaled.Y) # for plotting scatter plot\n",
    "plt.axvline(x=0,c=\"red\") # adding y-axis\n",
    "plt.axhline(y=0,c=\"yellow\")# adding x-axis\n",
    "plt.title(\"After Scaling: Min Max Scaling\")\n",
    "\n",
    "plt.subplot(1,3,3)\n",
    "plt.scatter(std_scaled.X,std_scaled.Y) # for plotting scatter plot\n",
    "plt.axvline(x=0,c=\"red\") # adding y-axis\n",
    "plt.axhline(y=0,c=\"yellow\")# adding x-axis\n",
    "plt.title(\"After Scaling: Standard Scaling\")\n",
    "plt.show()"
   ]
  },
  {
   "cell_type": "code",
   "execution_count": 38,
   "id": "fe4dd2ca",
   "metadata": {},
   "outputs": [
    {
     "data": {
      "text/html": [
       "<div>\n",
       "<style scoped>\n",
       "    .dataframe tbody tr th:only-of-type {\n",
       "        vertical-align: middle;\n",
       "    }\n",
       "\n",
       "    .dataframe tbody tr th {\n",
       "        vertical-align: top;\n",
       "    }\n",
       "\n",
       "    .dataframe thead th {\n",
       "        text-align: right;\n",
       "    }\n",
       "</style>\n",
       "<table border=\"1\" class=\"dataframe\">\n",
       "  <thead>\n",
       "    <tr style=\"text-align: right;\">\n",
       "      <th></th>\n",
       "      <th>X</th>\n",
       "      <th>Y</th>\n",
       "    </tr>\n",
       "  </thead>\n",
       "  <tbody>\n",
       "    <tr>\n",
       "      <th>count</th>\n",
       "      <td>4.000000</td>\n",
       "      <td>4.000000</td>\n",
       "    </tr>\n",
       "    <tr>\n",
       "      <th>mean</th>\n",
       "      <td>0.000000</td>\n",
       "      <td>0.000000</td>\n",
       "    </tr>\n",
       "    <tr>\n",
       "      <th>std</th>\n",
       "      <td>1.154701</td>\n",
       "      <td>1.154701</td>\n",
       "    </tr>\n",
       "    <tr>\n",
       "      <th>min</th>\n",
       "      <td>-1.128330</td>\n",
       "      <td>-1.128330</td>\n",
       "    </tr>\n",
       "    <tr>\n",
       "      <th>25%</th>\n",
       "      <td>-0.730096</td>\n",
       "      <td>-0.730096</td>\n",
       "    </tr>\n",
       "    <tr>\n",
       "      <th>50%</th>\n",
       "      <td>-0.199117</td>\n",
       "      <td>-0.199117</td>\n",
       "    </tr>\n",
       "    <tr>\n",
       "      <th>75%</th>\n",
       "      <td>0.530979</td>\n",
       "      <td>0.530979</td>\n",
       "    </tr>\n",
       "    <tr>\n",
       "      <th>max</th>\n",
       "      <td>1.526564</td>\n",
       "      <td>1.526564</td>\n",
       "    </tr>\n",
       "  </tbody>\n",
       "</table>\n",
       "</div>"
      ],
      "text/plain": [
       "              X         Y\n",
       "count  4.000000  4.000000\n",
       "mean   0.000000  0.000000\n",
       "std    1.154701  1.154701\n",
       "min   -1.128330 -1.128330\n",
       "25%   -0.730096 -0.730096\n",
       "50%   -0.199117 -0.199117\n",
       "75%    0.530979  0.530979\n",
       "max    1.526564  1.526564"
      ]
     },
     "execution_count": 38,
     "metadata": {},
     "output_type": "execute_result"
    }
   ],
   "source": [
    "std_scaled.describe() # mean=0 and std approximately 1"
   ]
  },
  {
   "cell_type": "code",
   "execution_count": null,
   "id": "51c16b60",
   "metadata": {},
   "outputs": [],
   "source": []
  }
 ],
 "metadata": {
  "kernelspec": {
   "display_name": "Python 3 (ipykernel)",
   "language": "python",
   "name": "python3"
  },
  "language_info": {
   "codemirror_mode": {
    "name": "ipython",
    "version": 3
   },
   "file_extension": ".py",
   "mimetype": "text/x-python",
   "name": "python",
   "nbconvert_exporter": "python",
   "pygments_lexer": "ipython3",
   "version": "3.11.3"
  }
 },
 "nbformat": 4,
 "nbformat_minor": 5
}
