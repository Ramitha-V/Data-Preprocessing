{
 "cells": [
  {
   "cell_type": "markdown",
   "id": "14fedb82",
   "metadata": {},
   "source": [
    "- K nearest neighbour\n",
    "- for classfication\n",
    "- can also be used for imputation: K-NN Imputer\n",
    "- assigns a data point of a particular class depending on the distance- Euclidean distance\n",
    "- if first neighbour distance are equal then considers the next neighbours\n",
    "- depending on the count of neighbours in assigns the class\n",
    "- K value- Hyperparameter: count of neighbours\n",
    "- lazy learning algorithm\n"
   ]
  },
  {
   "cell_type": "markdown",
   "id": "29289f6d",
   "metadata": {},
   "source": [
    "- KNNimputer() paramters:\n",
    "    - n_ neighbours\n",
    "    - metric: Euclidean distance is the default one\n",
    "    - weights"
   ]
  },
  {
   "cell_type": "markdown",
   "id": "ad2df9e2",
   "metadata": {},
   "source": [
    "## KNN imputer"
   ]
  },
  {
   "cell_type": "code",
   "execution_count": 5,
   "id": "56f8ee41",
   "metadata": {},
   "outputs": [],
   "source": [
    "# Importing libraries\n",
    "from sklearn.impute import KNNImputer\n",
    "import numpy as np\n",
    "import pandas as pd"
   ]
  },
  {
   "cell_type": "markdown",
   "id": "6bc80be1",
   "metadata": {},
   "source": [
    "### Creating Dataset for marks of students"
   ]
  },
  {
   "cell_type": "code",
   "execution_count": 8,
   "id": "093c4550",
   "metadata": {},
   "outputs": [],
   "source": [
    "dict={'Maths':[85,91,np.nan,91],\n",
    "     'Chemistry':[72,75,74,np.nan],\n",
    "      'Physics':[np.nan,68,82,81],\n",
    "     'Biology':[81,81,72,np.nan]}"
   ]
  },
  {
   "cell_type": "code",
   "execution_count": 7,
   "id": "4ae5d177",
   "metadata": {},
   "outputs": [
    {
     "data": {
      "text/plain": [
       "{'Maths': [85, 91, nan, 91],\n",
       " 'Chemistry': [72, 75, 74, nan],\n",
       " 'Physics': [nan, 68, 82, 83],\n",
       " 'Biology': [81, 81, 72, nan]}"
      ]
     },
     "execution_count": 7,
     "metadata": {},
     "output_type": "execute_result"
    }
   ],
   "source": [
    "dict"
   ]
  },
  {
   "cell_type": "code",
   "execution_count": 9,
   "id": "57e055d2",
   "metadata": {},
   "outputs": [
    {
     "data": {
      "text/html": [
       "<div>\n",
       "<style scoped>\n",
       "    .dataframe tbody tr th:only-of-type {\n",
       "        vertical-align: middle;\n",
       "    }\n",
       "\n",
       "    .dataframe tbody tr th {\n",
       "        vertical-align: top;\n",
       "    }\n",
       "\n",
       "    .dataframe thead th {\n",
       "        text-align: right;\n",
       "    }\n",
       "</style>\n",
       "<table border=\"1\" class=\"dataframe\">\n",
       "  <thead>\n",
       "    <tr style=\"text-align: right;\">\n",
       "      <th></th>\n",
       "      <th>Maths</th>\n",
       "      <th>Chemistry</th>\n",
       "      <th>Physics</th>\n",
       "      <th>Biology</th>\n",
       "    </tr>\n",
       "  </thead>\n",
       "  <tbody>\n",
       "    <tr>\n",
       "      <th>0</th>\n",
       "      <td>85.0</td>\n",
       "      <td>72.0</td>\n",
       "      <td>NaN</td>\n",
       "      <td>81.0</td>\n",
       "    </tr>\n",
       "    <tr>\n",
       "      <th>1</th>\n",
       "      <td>91.0</td>\n",
       "      <td>75.0</td>\n",
       "      <td>68.0</td>\n",
       "      <td>81.0</td>\n",
       "    </tr>\n",
       "    <tr>\n",
       "      <th>2</th>\n",
       "      <td>NaN</td>\n",
       "      <td>74.0</td>\n",
       "      <td>82.0</td>\n",
       "      <td>72.0</td>\n",
       "    </tr>\n",
       "    <tr>\n",
       "      <th>3</th>\n",
       "      <td>91.0</td>\n",
       "      <td>NaN</td>\n",
       "      <td>81.0</td>\n",
       "      <td>NaN</td>\n",
       "    </tr>\n",
       "  </tbody>\n",
       "</table>\n",
       "</div>"
      ],
      "text/plain": [
       "   Maths  Chemistry  Physics  Biology\n",
       "0   85.0       72.0      NaN     81.0\n",
       "1   91.0       75.0     68.0     81.0\n",
       "2    NaN       74.0     82.0     72.0\n",
       "3   91.0        NaN     81.0      NaN"
      ]
     },
     "execution_count": 9,
     "metadata": {},
     "output_type": "execute_result"
    }
   ],
   "source": [
    "Before_Imputation=pd.DataFrame(dict)\n",
    "Before_Imputation"
   ]
  },
  {
   "cell_type": "markdown",
   "id": "72a0c3c3",
   "metadata": {},
   "source": [
    "### Replace the values with KNN Imputer"
   ]
  },
  {
   "cell_type": "code",
   "execution_count": 12,
   "id": "bc635df2",
   "metadata": {},
   "outputs": [],
   "source": [
    "imputer=KNNImputer(n_neighbors=2) #imputer: object of KNNImputer\n",
    "After_Imputation=imputer.fit_transform(Before_Imputation)"
   ]
  },
  {
   "cell_type": "code",
   "execution_count": 14,
   "id": "7d01aaa9",
   "metadata": {},
   "outputs": [
    {
     "data": {
      "text/plain": [
       "Index(['Maths', 'Chemistry', 'Physics', 'Biology'], dtype='object')"
      ]
     },
     "execution_count": 14,
     "metadata": {},
     "output_type": "execute_result"
    }
   ],
   "source": [
    "Before_Imputation.columns"
   ]
  },
  {
   "cell_type": "code",
   "execution_count": 15,
   "id": "1c046eb3",
   "metadata": {},
   "outputs": [],
   "source": [
    "After_Imputation=pd.DataFrame(After_Imputation,columns=Before_Imputation.columns) #if columns is not specified we default get 0,1,2,3,..."
   ]
  },
  {
   "cell_type": "code",
   "execution_count": 16,
   "id": "52ca62ae",
   "metadata": {},
   "outputs": [
    {
     "data": {
      "text/html": [
       "<div>\n",
       "<style scoped>\n",
       "    .dataframe tbody tr th:only-of-type {\n",
       "        vertical-align: middle;\n",
       "    }\n",
       "\n",
       "    .dataframe tbody tr th {\n",
       "        vertical-align: top;\n",
       "    }\n",
       "\n",
       "    .dataframe thead th {\n",
       "        text-align: right;\n",
       "    }\n",
       "</style>\n",
       "<table border=\"1\" class=\"dataframe\">\n",
       "  <thead>\n",
       "    <tr style=\"text-align: right;\">\n",
       "      <th></th>\n",
       "      <th>Maths</th>\n",
       "      <th>Chemistry</th>\n",
       "      <th>Physics</th>\n",
       "      <th>Biology</th>\n",
       "    </tr>\n",
       "  </thead>\n",
       "  <tbody>\n",
       "    <tr>\n",
       "      <th>0</th>\n",
       "      <td>85.0</td>\n",
       "      <td>72.0</td>\n",
       "      <td>74.5</td>\n",
       "      <td>81.0</td>\n",
       "    </tr>\n",
       "    <tr>\n",
       "      <th>1</th>\n",
       "      <td>91.0</td>\n",
       "      <td>75.0</td>\n",
       "      <td>68.0</td>\n",
       "      <td>81.0</td>\n",
       "    </tr>\n",
       "    <tr>\n",
       "      <th>2</th>\n",
       "      <td>88.0</td>\n",
       "      <td>74.0</td>\n",
       "      <td>82.0</td>\n",
       "      <td>72.0</td>\n",
       "    </tr>\n",
       "    <tr>\n",
       "      <th>3</th>\n",
       "      <td>91.0</td>\n",
       "      <td>73.0</td>\n",
       "      <td>81.0</td>\n",
       "      <td>76.5</td>\n",
       "    </tr>\n",
       "  </tbody>\n",
       "</table>\n",
       "</div>"
      ],
      "text/plain": [
       "   Maths  Chemistry  Physics  Biology\n",
       "0   85.0       72.0     74.5     81.0\n",
       "1   91.0       75.0     68.0     81.0\n",
       "2   88.0       74.0     82.0     72.0\n",
       "3   91.0       73.0     81.0     76.5"
      ]
     },
     "execution_count": 16,
     "metadata": {},
     "output_type": "execute_result"
    }
   ],
   "source": [
    "After_Imputation"
   ]
  },
  {
   "cell_type": "code",
   "execution_count": null,
   "id": "0e90e203",
   "metadata": {},
   "outputs": [],
   "source": []
  },
  {
   "cell_type": "code",
   "execution_count": null,
   "id": "96e25705",
   "metadata": {},
   "outputs": [],
   "source": []
  }
 ],
 "metadata": {
  "kernelspec": {
   "display_name": "Python 3 (ipykernel)",
   "language": "python",
   "name": "python3"
  },
  "language_info": {
   "codemirror_mode": {
    "name": "ipython",
    "version": 3
   },
   "file_extension": ".py",
   "mimetype": "text/x-python",
   "name": "python",
   "nbconvert_exporter": "python",
   "pygments_lexer": "ipython3",
   "version": "3.11.3"
  }
 },
 "nbformat": 4,
 "nbformat_minor": 5
}
