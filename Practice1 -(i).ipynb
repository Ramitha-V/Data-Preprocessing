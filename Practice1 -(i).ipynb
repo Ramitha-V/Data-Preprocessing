{
 "cells": [
  {
   "cell_type": "markdown",
   "id": "47bd5fc9",
   "metadata": {},
   "source": [
    "## Aim: To perform numeric data preprocessing and analysis"
   ]
  },
  {
   "cell_type": "markdown",
   "id": "005551b7",
   "metadata": {},
   "source": [
    "### Task 1: Web Scraping using Beautiful Soup"
   ]
  },
  {
   "cell_type": "markdown",
   "id": "c3f2be5f",
   "metadata": {},
   "source": [
    "#### Importing libraries"
   ]
  },
  {
   "cell_type": "markdown",
   "id": "e1c83059",
   "metadata": {},
   "source": [
    "- BeautifulSoup library to parse and extract data from HTML content obtained via HTTP requests. It's commonly used for web scraping and data extraction tasks in Python."
   ]
  },
  {
   "cell_type": "code",
   "execution_count": 1,
   "id": "b5dda5ab",
   "metadata": {},
   "outputs": [],
   "source": [
    "from bs4 import BeautifulSoup\n",
    "import requests"
   ]
  },
  {
   "cell_type": "code",
   "execution_count": 2,
   "id": "fe447e51",
   "metadata": {},
   "outputs": [
    {
     "name": "stdout",
     "output_type": "stream",
     "text": [
      "<Response [200]>\n"
     ]
    }
   ],
   "source": [
    "url=\"https://quotes.toscrape.com/\"\n",
    "response=requests.get(url)\n",
    "print(response)"
   ]
  },
  {
   "cell_type": "markdown",
   "id": "2a3b8bf1",
   "metadata": {},
   "source": [
    "- This code fetches the content of the URL \"https://quotes.toscrape.com/\" using the requests library, which sends an HTTP GET request to the specified URL. The response from the server is stored in the response variable. Finally, the code prints out the response, which typically includes information about the HTTP status code, headers, and content of the web page."
   ]
  },
  {
   "cell_type": "code",
   "execution_count": 3,
   "id": "e049d6b5",
   "metadata": {},
   "outputs": [
    {
     "name": "stdout",
     "output_type": "stream",
     "text": [
      "b'<!DOCTYPE html>\\n<html lang=\"en\">\\n<head>\\n\\t<meta charset=\"UTF-8\">\\n\\t<title>Quotes to Scrape</title>\\n    <link rel=\"stylesheet\" href=\"/static/bootstrap.min.css\">\\n    <link rel=\"stylesheet\" href=\"/static/main.css\">\\n</head>\\n<body>\\n    <div class=\"container\">\\n        <div class=\"row header-box\">\\n            <div class=\"col-md-8\">\\n                <h1>\\n                    <a href=\"/\" style=\"text-decoration: none\">Quotes to Scrape</a>\\n                </h1>\\n            </div>\\n            <div class=\"col-md-4\">\\n                <p>\\n                \\n                    <a href=\"/login\">Login</a>\\n                \\n                </p>\\n            </div>\\n        </div>\\n    \\n\\n<div class=\"row\">\\n    <div class=\"col-md-8\">\\n\\n    <div class=\"quote\" itemscope itemtype=\"http://schema.org/CreativeWork\">\\n        <span class=\"text\" itemprop=\"text\">\\xe2\\x80\\x9cThe world as we have created it is a process of our thinking. It cannot be changed without changing our thinking.\\xe2\\x80\\x9d</span>\\n        <span>by <small class=\"author\" itemprop=\"author\">Albert Einstein</small>\\n        <a href=\"/author/Albert-Einstein\">(about)</a>\\n        </span>\\n        <div class=\"tags\">\\n            Tags:\\n            <meta class=\"keywords\" itemprop=\"keywords\" content=\"change,deep-thoughts,thinking,world\" /    > \\n            \\n            <a class=\"tag\" href=\"/tag/change/page/1/\">change</a>\\n            \\n            <a class=\"tag\" href=\"/tag/deep-thoughts/page/1/\">deep-thoughts</a>\\n            \\n            <a class=\"tag\" href=\"/tag/thinking/page/1/\">thinking</a>\\n            \\n            <a class=\"tag\" href=\"/tag/world/page/1/\">world</a>\\n            \\n        </div>\\n    </div>\\n\\n    <div class=\"quote\" itemscope itemtype=\"http://schema.org/CreativeWork\">\\n        <span class=\"text\" itemprop=\"text\">\\xe2\\x80\\x9cIt is our choices, Harry, that show what we truly are, far more than our abilities.\\xe2\\x80\\x9d</span>\\n        <span>by <small class=\"author\" itemprop=\"author\">J.K. Rowling</small>\\n        <a href=\"/author/J-K-Rowling\">(about)</a>\\n        </span>\\n        <div class=\"tags\">\\n            Tags:\\n            <meta class=\"keywords\" itemprop=\"keywords\" content=\"abilities,choices\" /    > \\n            \\n            <a class=\"tag\" href=\"/tag/abilities/page/1/\">abilities</a>\\n            \\n            <a class=\"tag\" href=\"/tag/choices/page/1/\">choices</a>\\n            \\n        </div>\\n    </div>\\n\\n    <div class=\"quote\" itemscope itemtype=\"http://schema.org/CreativeWork\">\\n        <span class=\"text\" itemprop=\"text\">\\xe2\\x80\\x9cThere are only two ways to live your life. One is as though nothing is a miracle. The other is as though everything is a miracle.\\xe2\\x80\\x9d</span>\\n        <span>by <small class=\"author\" itemprop=\"author\">Albert Einstein</small>\\n        <a href=\"/author/Albert-Einstein\">(about)</a>\\n        </span>\\n        <div class=\"tags\">\\n            Tags:\\n            <meta class=\"keywords\" itemprop=\"keywords\" content=\"inspirational,life,live,miracle,miracles\" /    > \\n            \\n            <a class=\"tag\" href=\"/tag/inspirational/page/1/\">inspirational</a>\\n            \\n            <a class=\"tag\" href=\"/tag/life/page/1/\">life</a>\\n            \\n            <a class=\"tag\" href=\"/tag/live/page/1/\">live</a>\\n            \\n            <a class=\"tag\" href=\"/tag/miracle/page/1/\">miracle</a>\\n            \\n            <a class=\"tag\" href=\"/tag/miracles/page/1/\">miracles</a>\\n            \\n        </div>\\n    </div>\\n\\n    <div class=\"quote\" itemscope itemtype=\"http://schema.org/CreativeWork\">\\n        <span class=\"text\" itemprop=\"text\">\\xe2\\x80\\x9cThe person, be it gentleman or lady, who has not pleasure in a good novel, must be intolerably stupid.\\xe2\\x80\\x9d</span>\\n        <span>by <small class=\"author\" itemprop=\"author\">Jane Austen</small>\\n        <a href=\"/author/Jane-Austen\">(about)</a>\\n        </span>\\n        <div class=\"tags\">\\n            Tags:\\n            <meta class=\"keywords\" itemprop=\"keywords\" content=\"aliteracy,books,classic,humor\" /    > \\n            \\n            <a class=\"tag\" href=\"/tag/aliteracy/page/1/\">aliteracy</a>\\n            \\n            <a class=\"tag\" href=\"/tag/books/page/1/\">books</a>\\n            \\n            <a class=\"tag\" href=\"/tag/classic/page/1/\">classic</a>\\n            \\n            <a class=\"tag\" href=\"/tag/humor/page/1/\">humor</a>\\n            \\n        </div>\\n    </div>\\n\\n    <div class=\"quote\" itemscope itemtype=\"http://schema.org/CreativeWork\">\\n        <span class=\"text\" itemprop=\"text\">\\xe2\\x80\\x9cImperfection is beauty, madness is genius and it&#39;s better to be absolutely ridiculous than absolutely boring.\\xe2\\x80\\x9d</span>\\n        <span>by <small class=\"author\" itemprop=\"author\">Marilyn Monroe</small>\\n        <a href=\"/author/Marilyn-Monroe\">(about)</a>\\n        </span>\\n        <div class=\"tags\">\\n            Tags:\\n            <meta class=\"keywords\" itemprop=\"keywords\" content=\"be-yourself,inspirational\" /    > \\n            \\n            <a class=\"tag\" href=\"/tag/be-yourself/page/1/\">be-yourself</a>\\n            \\n            <a class=\"tag\" href=\"/tag/inspirational/page/1/\">inspirational</a>\\n            \\n        </div>\\n    </div>\\n\\n    <div class=\"quote\" itemscope itemtype=\"http://schema.org/CreativeWork\">\\n        <span class=\"text\" itemprop=\"text\">\\xe2\\x80\\x9cTry not to become a man of success. Rather become a man of value.\\xe2\\x80\\x9d</span>\\n        <span>by <small class=\"author\" itemprop=\"author\">Albert Einstein</small>\\n        <a href=\"/author/Albert-Einstein\">(about)</a>\\n        </span>\\n        <div class=\"tags\">\\n            Tags:\\n            <meta class=\"keywords\" itemprop=\"keywords\" content=\"adulthood,success,value\" /    > \\n            \\n            <a class=\"tag\" href=\"/tag/adulthood/page/1/\">adulthood</a>\\n            \\n            <a class=\"tag\" href=\"/tag/success/page/1/\">success</a>\\n            \\n            <a class=\"tag\" href=\"/tag/value/page/1/\">value</a>\\n            \\n        </div>\\n    </div>\\n\\n    <div class=\"quote\" itemscope itemtype=\"http://schema.org/CreativeWork\">\\n        <span class=\"text\" itemprop=\"text\">\\xe2\\x80\\x9cIt is better to be hated for what you are than to be loved for what you are not.\\xe2\\x80\\x9d</span>\\n        <span>by <small class=\"author\" itemprop=\"author\">Andr\\xc3\\xa9 Gide</small>\\n        <a href=\"/author/Andre-Gide\">(about)</a>\\n        </span>\\n        <div class=\"tags\">\\n            Tags:\\n            <meta class=\"keywords\" itemprop=\"keywords\" content=\"life,love\" /    > \\n            \\n            <a class=\"tag\" href=\"/tag/life/page/1/\">life</a>\\n            \\n            <a class=\"tag\" href=\"/tag/love/page/1/\">love</a>\\n            \\n        </div>\\n    </div>\\n\\n    <div class=\"quote\" itemscope itemtype=\"http://schema.org/CreativeWork\">\\n        <span class=\"text\" itemprop=\"text\">\\xe2\\x80\\x9cI have not failed. I&#39;ve just found 10,000 ways that won&#39;t work.\\xe2\\x80\\x9d</span>\\n        <span>by <small class=\"author\" itemprop=\"author\">Thomas A. Edison</small>\\n        <a href=\"/author/Thomas-A-Edison\">(about)</a>\\n        </span>\\n        <div class=\"tags\">\\n            Tags:\\n            <meta class=\"keywords\" itemprop=\"keywords\" content=\"edison,failure,inspirational,paraphrased\" /    > \\n            \\n            <a class=\"tag\" href=\"/tag/edison/page/1/\">edison</a>\\n            \\n            <a class=\"tag\" href=\"/tag/failure/page/1/\">failure</a>\\n            \\n            <a class=\"tag\" href=\"/tag/inspirational/page/1/\">inspirational</a>\\n            \\n            <a class=\"tag\" href=\"/tag/paraphrased/page/1/\">paraphrased</a>\\n            \\n        </div>\\n    </div>\\n\\n    <div class=\"quote\" itemscope itemtype=\"http://schema.org/CreativeWork\">\\n        <span class=\"text\" itemprop=\"text\">\\xe2\\x80\\x9cA woman is like a tea bag; you never know how strong it is until it&#39;s in hot water.\\xe2\\x80\\x9d</span>\\n        <span>by <small class=\"author\" itemprop=\"author\">Eleanor Roosevelt</small>\\n        <a href=\"/author/Eleanor-Roosevelt\">(about)</a>\\n        </span>\\n        <div class=\"tags\">\\n            Tags:\\n            <meta class=\"keywords\" itemprop=\"keywords\" content=\"misattributed-eleanor-roosevelt\" /    > \\n            \\n            <a class=\"tag\" href=\"/tag/misattributed-eleanor-roosevelt/page/1/\">misattributed-eleanor-roosevelt</a>\\n            \\n        </div>\\n    </div>\\n\\n    <div class=\"quote\" itemscope itemtype=\"http://schema.org/CreativeWork\">\\n        <span class=\"text\" itemprop=\"text\">\\xe2\\x80\\x9cA day without sunshine is like, you know, night.\\xe2\\x80\\x9d</span>\\n        <span>by <small class=\"author\" itemprop=\"author\">Steve Martin</small>\\n        <a href=\"/author/Steve-Martin\">(about)</a>\\n        </span>\\n        <div class=\"tags\">\\n            Tags:\\n            <meta class=\"keywords\" itemprop=\"keywords\" content=\"humor,obvious,simile\" /    > \\n            \\n            <a class=\"tag\" href=\"/tag/humor/page/1/\">humor</a>\\n            \\n            <a class=\"tag\" href=\"/tag/obvious/page/1/\">obvious</a>\\n            \\n            <a class=\"tag\" href=\"/tag/simile/page/1/\">simile</a>\\n            \\n        </div>\\n    </div>\\n\\n    <nav>\\n        <ul class=\"pager\">\\n            \\n            \\n            <li class=\"next\">\\n                <a href=\"/page/2/\">Next <span aria-hidden=\"true\">&rarr;</span></a>\\n            </li>\\n            \\n        </ul>\\n    </nav>\\n    </div>\\n    <div class=\"col-md-4 tags-box\">\\n        \\n            <h2>Top Ten tags</h2>\\n            \\n            <span class=\"tag-item\">\\n            <a class=\"tag\" style=\"font-size: 28px\" href=\"/tag/love/\">love</a>\\n            </span>\\n            \\n            <span class=\"tag-item\">\\n            <a class=\"tag\" style=\"font-size: 26px\" href=\"/tag/inspirational/\">inspirational</a>\\n            </span>\\n            \\n            <span class=\"tag-item\">\\n            <a class=\"tag\" style=\"font-size: 26px\" href=\"/tag/life/\">life</a>\\n            </span>\\n            \\n            <span class=\"tag-item\">\\n            <a class=\"tag\" style=\"font-size: 24px\" href=\"/tag/humor/\">humor</a>\\n            </span>\\n            \\n            <span class=\"tag-item\">\\n            <a class=\"tag\" style=\"font-size: 22px\" href=\"/tag/books/\">books</a>\\n            </span>\\n            \\n            <span class=\"tag-item\">\\n            <a class=\"tag\" style=\"font-size: 14px\" href=\"/tag/reading/\">reading</a>\\n            </span>\\n            \\n            <span class=\"tag-item\">\\n            <a class=\"tag\" style=\"font-size: 10px\" href=\"/tag/friendship/\">friendship</a>\\n            </span>\\n            \\n            <span class=\"tag-item\">\\n            <a class=\"tag\" style=\"font-size: 8px\" href=\"/tag/friends/\">friends</a>\\n            </span>\\n            \\n            <span class=\"tag-item\">\\n            <a class=\"tag\" style=\"font-size: 8px\" href=\"/tag/truth/\">truth</a>\\n            </span>\\n            \\n            <span class=\"tag-item\">\\n            <a class=\"tag\" style=\"font-size: 6px\" href=\"/tag/simile/\">simile</a>\\n            </span>\\n            \\n        \\n    </div>\\n</div>\\n\\n    </div>\\n    <footer class=\"footer\">\\n        <div class=\"container\">\\n            <p class=\"text-muted\">\\n                Quotes by: <a href=\"https://www.goodreads.com/quotes\">GoodReads.com</a>\\n            </p>\\n            <p class=\"copyright\">\\n                Made with <span class=\\'zyte\\'>\\xe2\\x9d\\xa4</span> by <a class=\\'zyte\\' href=\"https://www.zyte.com\">Zyte</a>\\n            </p>\\n        </div>\\n    </footer>\\n</body>\\n</html>'\n"
     ]
    }
   ],
   "source": [
    "html=response.content\n",
    "print(html)"
   ]
  },
  {
   "cell_type": "markdown",
   "id": "31ed19b2",
   "metadata": {},
   "source": [
    "- The BeautifulSoup function from the bs4 (Beautiful Soup 4) library is used to create a BeautifulSoup object. This object is used for parsing and navigating through HTML content."
   ]
  },
  {
   "cell_type": "code",
   "execution_count": 4,
   "id": "cfe36d1f",
   "metadata": {},
   "outputs": [],
   "source": [
    "soup=BeautifulSoup(html,'html.parser')"
   ]
  },
  {
   "cell_type": "markdown",
   "id": "fba552fb",
   "metadata": {},
   "source": [
    "#### (a) Find the title tag"
   ]
  },
  {
   "cell_type": "code",
   "execution_count": 5,
   "id": "627825e7",
   "metadata": {},
   "outputs": [
    {
     "name": "stdout",
     "output_type": "stream",
     "text": [
      "Title Tag: <title>Quotes to Scrape</title>\n",
      "String Title Tag: Quotes to Scrape\n"
     ]
    }
   ],
   "source": [
    "title_tag=soup.title\n",
    "print(\"Title Tag:\",title_tag)\n",
    "\n",
    "# title tag as string\n",
    "print(\"String Title Tag:\",title_tag.string)"
   ]
  },
  {
   "cell_type": "markdown",
   "id": "76e9a1a6",
   "metadata": {},
   "source": [
    "- title_tag is assigned the value of the title HTML tag within the parsed HTML content using BeautifulSoup. The <title> tag typically represents the title of a web page. The print(\"Title Tag:\", title_tag) line prints the representation of the title_tag object, which includes the entire <title> tag and its contents"
   ]
  },
  {
   "cell_type": "markdown",
   "id": "89b4e13f",
   "metadata": {},
   "source": [
    "#### (b) Retrieve all the paragraph tags"
   ]
  },
  {
   "cell_type": "code",
   "execution_count": 6,
   "id": "5b76aafb",
   "metadata": {
    "scrolled": true
   },
   "outputs": [
    {
     "name": "stdout",
     "output_type": "stream",
     "text": [
      "Paragraph Tags\n",
      "<p>\n",
      "<a href=\"/login\">Login</a>\n",
      "</p>\n",
      "<p class=\"text-muted\">\n",
      "                Quotes by: <a href=\"https://www.goodreads.com/quotes\">GoodReads.com</a>\n",
      "</p>\n",
      "<p class=\"copyright\">\n",
      "                Made with <span class=\"zyte\">❤</span> by <a class=\"zyte\" href=\"https://www.zyte.com\">Zyte</a>\n",
      "</p>\n"
     ]
    }
   ],
   "source": [
    "paragraph_tag=soup.find_all('p')\n",
    "print(\"Paragraph Tags\")\n",
    "for i in paragraph_tag:\n",
    "    print(i)"
   ]
  },
  {
   "cell_type": "markdown",
   "id": "5edae1bb",
   "metadata": {},
   "source": [
    "- In this code, the variable paragraph_tag is assigned a list of all the <p> (paragraph) HTML tags found within the parsed HTML content using BeautifulSoup's find_all method. The find_all method is used to locate all instances of a particular HTML tag."
   ]
  },
  {
   "cell_type": "markdown",
   "id": "29f6e529",
   "metadata": {},
   "source": [
    "#### (c) extract the text in the first paragraph tag"
   ]
  },
  {
   "cell_type": "code",
   "execution_count": 7,
   "id": "5d7f4c1b",
   "metadata": {},
   "outputs": [
    {
     "name": "stdout",
     "output_type": "stream",
     "text": [
      "The text in the first paragraph tag is \n",
      "Login\n",
      "\n"
     ]
    }
   ],
   "source": [
    "if paragraph_tag:\n",
    "    print(\"The text in the first paragraph tag is\",paragraph_tag[0].text)\n",
    "else:\n",
    "    printf(\"No text found in the first paragraph tag\")"
   ]
  },
  {
   "cell_type": "markdown",
   "id": "bf6dcff7",
   "metadata": {},
   "source": [
    "- The if condition checks whether the paragraph_tag list is non-empty, meaning it contains at least one <p> tag that was found in the parsed HTML content. If this condition is true, the code proceeds into the indented block. Within this block, paragraph_tag[0].text is used to extract and print the text content from the first tag "
   ]
  },
  {
   "cell_type": "markdown",
   "id": "3c102179",
   "metadata": {},
   "source": [
    "#### (d) Find all the h2 tags"
   ]
  },
  {
   "cell_type": "code",
   "execution_count": 8,
   "id": "f060657a",
   "metadata": {},
   "outputs": [
    {
     "name": "stdout",
     "output_type": "stream",
     "text": [
      "<h2> tags\n",
      "<h2>Top Ten tags</h2>\n"
     ]
    }
   ],
   "source": [
    "h2_tags=soup.find_all('h2')\n",
    "print(\"<h2> tags\")\n",
    "for i in h2_tags:\n",
    "    print(i)"
   ]
  },
  {
   "cell_type": "markdown",
   "id": "842a25c6",
   "metadata": {},
   "source": [
    "- searches for all h2 (second-level heading) HTML tags within the parsed HTML content using BeautifulSoup's find_all method and stores them in the h2_tags list. The loop for i in h2_tags: iterates through each h2 tag in the list and prints out their representations, which include the HTML structure and content of each heading"
   ]
  },
  {
   "cell_type": "markdown",
   "id": "0de14cdb",
   "metadata": {},
   "source": [
    "#### (e) find the length of the text of the first h2 tag"
   ]
  },
  {
   "cell_type": "code",
   "execution_count": 9,
   "id": "06280854",
   "metadata": {},
   "outputs": [
    {
     "name": "stdout",
     "output_type": "stream",
     "text": [
      "The length of the first h2 tag is: 12\n"
     ]
    }
   ],
   "source": [
    "if h2_tags:\n",
    "    print(\"The length of the first h2 tag is:\",len(h2_tags[0].text))"
   ]
  },
  {
   "cell_type": "markdown",
   "id": "7a0a2be7",
   "metadata": {},
   "source": [
    "- In this code, the if condition checks whether the h2_tags list is non-empty, meaning it contains at least one h2 tag that was found in the parsed HTML content. If this condition is true, the code proceeds into the indented block.Within this block, h2_tags[0].text is used to extract the text content from the first h2 tag in the list"
   ]
  },
  {
   "cell_type": "markdown",
   "id": "c5c194d2",
   "metadata": {},
   "source": [
    "#### (f) find the text of the first a tag"
   ]
  },
  {
   "cell_type": "code",
   "execution_count": null,
   "id": "5df75faf",
   "metadata": {},
   "outputs": [],
   "source": [
    "a_tags=soup.find_all('a')\n",
    "if a_tags:\n",
    "    print(\"Text in first <a> tag is:\",a_tags[0].text)"
   ]
  },
  {
   "cell_type": "markdown",
   "id": "b7a235ff",
   "metadata": {},
   "source": [
    "- BeautifulSoup's find_all method to locate all a tags (anchor) HTML tags within the parsed HTML content and stores them in the a_tags list. The if condition checks if the list is non-empty, indicating the presence of at least one anchor tag. If true, it prints the text content within the first anchor tag using a_tags[0].text. "
   ]
  },
  {
   "cell_type": "markdown",
   "id": "c763f6f2",
   "metadata": {},
   "source": [
    "#### (g) find the href of the first a tag"
   ]
  },
  {
   "cell_type": "code",
   "execution_count": null,
   "id": "ab326001",
   "metadata": {},
   "outputs": [],
   "source": [
    "if a_tags:\n",
    "    print(\"The href of the first <a> tag is\",a_tags[0][\"href\"])"
   ]
  },
  {
   "cell_type": "markdown",
   "id": "2349a525",
   "metadata": {},
   "source": [
    "- BeautifulSoup's find_all method to locate all a (anchor) HTML tags within the parsed HTML content and stores them in the a_tags list. The if condition checks if the list is non-empty, indicating the presence of at least one anchor tag. If true, it prints the text content within the first anchor tag using a_tags[0].text"
   ]
  },
  {
   "cell_type": "markdown",
   "id": "1f5b580e",
   "metadata": {},
   "source": [
    "#### (h) extract all the URLs from the webpage python.org that are nested within li tags"
   ]
  },
  {
   "cell_type": "code",
   "execution_count": null,
   "id": "f65c8566",
   "metadata": {},
   "outputs": [],
   "source": [
    "# Creating a response variable \n",
    "python_url=\"https://www.python.org\"\n",
    "python_response=requests.get(python_url)\n",
    "print(python_response)"
   ]
  },
  {
   "cell_type": "code",
   "execution_count": null,
   "id": "8f4e2bd8",
   "metadata": {},
   "outputs": [],
   "source": [
    "python_html=python_response.content\n",
    "python_soup=BeautifulSoup(python_html,'html.parser')"
   ]
  },
  {
   "cell_type": "code",
   "execution_count": null,
   "id": "a51f0f4b",
   "metadata": {},
   "outputs": [],
   "source": [
    "li_tags=python_soup.find_all('li')\n",
    "for i in li_tags:\n",
    "    a_tag=i.find_all('a')\n",
    "    for k in a_tag:\n",
    "        if \"href\" in k.attrs:\n",
    "            print(\"The URL's from the webpage python.org that are nested within <li> tag is\",k[\"href\"])\n",
    "    "
   ]
  },
  {
   "cell_type": "markdown",
   "id": "d1a56de8",
   "metadata": {},
   "source": [
    "- Locates all li tags (list item) HTML tags using BeautifulSoup's find_all method and stores them in the li_tags list. It then iterates through each li tag and searches for nested a (anchor) tags using i.find_all('a'). For each found anchor tag, it checks if the \"href\" attribute exists in its attributes using \"href\" in k.attrs and prints the URLs within these anchor tags if they are found."
   ]
  },
  {
   "cell_type": "markdown",
   "id": "e54f6125",
   "metadata": {},
   "source": [
    "#### (i) Quotes on quotes.toscrape.com often are categorized with tags. On the first page, create a dict for each quote using the BeautifulSoup object"
   ]
  },
  {
   "cell_type": "code",
   "execution_count": null,
   "id": "14ba83e0",
   "metadata": {},
   "outputs": [],
   "source": [
    "quote_tag=soup.find_all(\"span\")\n",
    "for i in quote_tag:\n",
    "   print(i)\n",
    "#from this we can note that the quotes are all in the class text\n",
    "# from this we can observe that the authors name is in the class author"
   ]
  },
  {
   "cell_type": "code",
   "execution_count": null,
   "id": "919b9064",
   "metadata": {},
   "outputs": [],
   "source": [
    "quote_tag=soup.find_all('div',class_=\"quote\")\n",
    "quotes=[]\n",
    "\n",
    "for i in quote_tag:\n",
    "    quote_text=i.find('span',class_=\"text\").text\n",
    "    author_text=i.find('small',class_=\"author\").text\n",
    "    tags=[tag.text for tag in i.find_all('a',class_=\"tag\")]\n",
    "    \n",
    "    quote_dict={\n",
    "        'Quote':quote_text,\n",
    "        'Author':author_text,\n",
    "        'Tags':tags\n",
    "    }\n",
    "    quotes.append(quote_dict)\n",
    "\n",
    "for j in quotes:\n",
    "    print(j)\n"
   ]
  },
  {
   "cell_type": "markdown",
   "id": "90aa1f9f",
   "metadata": {},
   "source": [
    "#### (k) Putting all quotes and author name in CSV file"
   ]
  },
  {
   "cell_type": "code",
   "execution_count": null,
   "id": "fb4bcb84",
   "metadata": {},
   "outputs": [],
   "source": [
    "import pandas as pd\n",
    "import csv\n",
    "df=pd.DataFrame(quotes,columns=['Quote','Author'])"
   ]
  },
  {
   "cell_type": "markdown",
   "id": "9e604094",
   "metadata": {},
   "source": [
    "- Pandas library to create a DataFrame named df from the quotes data. It specifies the columns 'Quote' and 'Author' for the DataFrame."
   ]
  },
  {
   "cell_type": "code",
   "execution_count": null,
   "id": "740be0e0",
   "metadata": {},
   "outputs": [],
   "source": [
    "df"
   ]
  },
  {
   "cell_type": "code",
   "execution_count": null,
   "id": "25ec0e11",
   "metadata": {},
   "outputs": [],
   "source": [
    "# Storing the dataframe in a csv file\n",
    "df.to_csv('quotes.csv',index=False, sep=';')"
   ]
  },
  {
   "cell_type": "code",
   "execution_count": null,
   "id": "b015c552",
   "metadata": {},
   "outputs": [],
   "source": []
  }
 ],
 "metadata": {
  "kernelspec": {
   "display_name": "Python 3 (ipykernel)",
   "language": "python",
   "name": "python3"
  },
  "language_info": {
   "codemirror_mode": {
    "name": "ipython",
    "version": 3
   },
   "file_extension": ".py",
   "mimetype": "text/x-python",
   "name": "python",
   "nbconvert_exporter": "python",
   "pygments_lexer": "ipython3",
   "version": "3.11.3"
  }
 },
 "nbformat": 4,
 "nbformat_minor": 5
}
